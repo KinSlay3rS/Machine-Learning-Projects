import numpy as np
import matplotlib.pyplot as plt
import pandas as pd
import sklearn
import tensorflow as tf
